{
 "cells": [
  {
   "cell_type": "code",
   "execution_count": 1,
   "metadata": {},
   "outputs": [],
   "source": [
    "import splatter\n",
    "import matplotlib.pyplot as plt"
   ]
  },
  {
   "cell_type": "code",
   "execution_count": 2,
   "metadata": {},
   "outputs": [
    {
     "data": {
      "text/plain": [
       "['__builtins__',\n",
       " '__cached__',\n",
       " '__doc__',\n",
       " '__file__',\n",
       " '__loader__',\n",
       " '__name__',\n",
       " '__package__',\n",
       " '__path__',\n",
       " '__spec__',\n",
       " 'load_splat_groups',\n",
       " 'load_splat_paths',\n",
       " 'splatter']"
      ]
     },
     "execution_count": 2,
     "metadata": {},
     "output_type": "execute_result"
    }
   ],
   "source": [
    "dir(splatter)"
   ]
  },
  {
   "cell_type": "code",
   "execution_count": 3,
   "metadata": {},
   "outputs": [
    {
     "name": "stderr",
     "output_type": "stream",
     "text": [
      "/home/adam/.local/lib/python3.7/site-packages/rpy2/rinterface/__init__.py:146: RRuntimeWarning: Getting parameters...\n",
      "\n",
      "  warnings.warn(x, RRuntimeWarning)\n",
      "/home/adam/.local/lib/python3.7/site-packages/rpy2/rinterface/__init__.py:146: RRuntimeWarning: Creating simulation object...\n",
      "\n",
      "  warnings.warn(x, RRuntimeWarning)\n",
      "/home/adam/.local/lib/python3.7/site-packages/rpy2/rinterface/__init__.py:146: RRuntimeWarning: Simulating library sizes...\n",
      "\n",
      "  warnings.warn(x, RRuntimeWarning)\n",
      "/home/adam/.local/lib/python3.7/site-packages/rpy2/rinterface/__init__.py:146: RRuntimeWarning: Simulating gene means...\n",
      "\n",
      "  warnings.warn(x, RRuntimeWarning)\n",
      "/home/adam/.local/lib/python3.7/site-packages/rpy2/rinterface/__init__.py:146: RRuntimeWarning: Simulating path endpoints...\n",
      "\n",
      "  warnings.warn(x, RRuntimeWarning)\n",
      "/home/adam/.local/lib/python3.7/site-packages/rpy2/rinterface/__init__.py:146: RRuntimeWarning: Simulating path steps...\n",
      "\n",
      "  warnings.warn(x, RRuntimeWarning)\n",
      "/home/adam/.local/lib/python3.7/site-packages/rpy2/rinterface/__init__.py:146: RRuntimeWarning: Simulating BCV...\n",
      "\n",
      "  warnings.warn(x, RRuntimeWarning)\n",
      "/home/adam/.local/lib/python3.7/site-packages/rpy2/rinterface/__init__.py:146: RRuntimeWarning: Simulating counts...\n",
      "\n",
      "  warnings.warn(x, RRuntimeWarning)\n",
      "/home/adam/.local/lib/python3.7/site-packages/rpy2/rinterface/__init__.py:146: RRuntimeWarning: Simulating dropout (if needed)...\n",
      "\n",
      "  warnings.warn(x, RRuntimeWarning)\n",
      "/home/adam/.local/lib/python3.7/site-packages/rpy2/rinterface/__init__.py:146: RRuntimeWarning: Done!\n",
      "\n",
      "  warnings.warn(x, RRuntimeWarning)\n"
     ]
    }
   ],
   "source": [
    "data, branch, times = splatter.load_splat_paths()"
   ]
  },
  {
   "cell_type": "code",
   "execution_count": 4,
   "metadata": {},
   "outputs": [
    {
     "name": "stderr",
     "output_type": "stream",
     "text": [
      "/home/adam/.local/lib/python3.7/site-packages/rpy2/rinterface/__init__.py:146: RRuntimeWarning: Getting parameters...\n",
      "\n",
      "  warnings.warn(x, RRuntimeWarning)\n",
      "/home/adam/.local/lib/python3.7/site-packages/rpy2/rinterface/__init__.py:146: RRuntimeWarning: Creating simulation object...\n",
      "\n",
      "  warnings.warn(x, RRuntimeWarning)\n",
      "/home/adam/.local/lib/python3.7/site-packages/rpy2/rinterface/__init__.py:146: RRuntimeWarning: Simulating library sizes...\n",
      "\n",
      "  warnings.warn(x, RRuntimeWarning)\n",
      "/home/adam/.local/lib/python3.7/site-packages/rpy2/rinterface/__init__.py:146: RRuntimeWarning: Simulating gene means...\n",
      "\n",
      "  warnings.warn(x, RRuntimeWarning)\n",
      "/home/adam/.local/lib/python3.7/site-packages/rpy2/rinterface/__init__.py:146: RRuntimeWarning: Simulating group DE...\n",
      "\n",
      "  warnings.warn(x, RRuntimeWarning)\n",
      "/home/adam/.local/lib/python3.7/site-packages/rpy2/rinterface/__init__.py:146: RRuntimeWarning: Simulating cell means...\n",
      "\n",
      "  warnings.warn(x, RRuntimeWarning)\n",
      "/home/adam/.local/lib/python3.7/site-packages/rpy2/rinterface/__init__.py:146: RRuntimeWarning: Simulating BCV...\n",
      "\n",
      "  warnings.warn(x, RRuntimeWarning)\n",
      "/home/adam/.local/lib/python3.7/site-packages/rpy2/rinterface/__init__.py:146: RRuntimeWarning: Simulating counts...\n",
      "\n",
      "  warnings.warn(x, RRuntimeWarning)\n",
      "/home/adam/.local/lib/python3.7/site-packages/rpy2/rinterface/__init__.py:146: RRuntimeWarning: Simulating dropout (if needed)...\n",
      "\n",
      "  warnings.warn(x, RRuntimeWarning)\n",
      "/home/adam/.local/lib/python3.7/site-packages/rpy2/rinterface/__init__.py:146: RRuntimeWarning: Done!\n",
      "\n",
      "  warnings.warn(x, RRuntimeWarning)\n"
     ]
    }
   ],
   "source": [
    "data2, branch2, times2 = splatter.load_splat_groups()"
   ]
  },
  {
   "cell_type": "code",
   "execution_count": 6,
   "metadata": {},
   "outputs": [
    {
     "data": {
      "text/plain": [
       "(3000, 17580)"
      ]
     },
     "execution_count": 6,
     "metadata": {},
     "output_type": "execute_result"
    }
   ],
   "source": [
    "data2.shape"
   ]
  },
  {
   "cell_type": "code",
   "execution_count": 7,
   "metadata": {},
   "outputs": [],
   "source": [
    "import numpy as np"
   ]
  },
  {
   "cell_type": "code",
   "execution_count": 8,
   "metadata": {},
   "outputs": [],
   "source": [
    "np.savez('splat_paths', data)"
   ]
  },
  {
   "cell_type": "code",
   "execution_count": 9,
   "metadata": {},
   "outputs": [],
   "source": [
    "np.savez('splat_groups', data2)"
   ]
  },
  {
   "cell_type": "code",
   "execution_count": null,
   "metadata": {},
   "outputs": [],
   "source": []
  },
  {
   "cell_type": "code",
   "execution_count": null,
   "metadata": {},
   "outputs": [],
   "source": []
  },
  {
   "cell_type": "code",
   "execution_count": null,
   "metadata": {},
   "outputs": [],
   "source": []
  },
  {
   "cell_type": "code",
   "execution_count": null,
   "metadata": {},
   "outputs": [],
   "source": []
  },
  {
   "cell_type": "code",
   "execution_count": 4,
   "metadata": {},
   "outputs": [
    {
     "data": {
      "text/plain": [
       "(3000, 17580)"
      ]
     },
     "execution_count": 4,
     "metadata": {},
     "output_type": "execute_result"
    }
   ],
   "source": [
    "data.shape"
   ]
  },
  {
   "cell_type": "code",
   "execution_count": 8,
   "metadata": {},
   "outputs": [
    {
     "data": {
      "image/png": "[encoded data removed]",
      "text/plain": [
       "<Figure size 432x288 with 1 Axes>"
      ]
     },
     "metadata": {
      "needs_background": "light"
     },
     "output_type": "display_data"
    }
   ],
   "source": [
    "fig = plt.imshow(data)"
   ]
  },
  {
   "cell_type": "code",
   "execution_count": 10,
   "metadata": {},
   "outputs": [],
   "source": [
    "plt.show()"
   ]
  },
  {
   "cell_type": "code",
   "execution_count": 7,
   "metadata": {},
   "outputs": [],
   "source": [
    "plt.show()"
   ]
  },
  {
   "cell_type": "code",
   "execution_count": 11,
   "metadata": {},
   "outputs": [
    {
     "data": {
      "text/plain": [
       "(3000, 17580)"
      ]
     },
     "execution_count": 11,
     "metadata": {},
     "output_type": "execute_result"
    }
   ],
   "source": [
    "data.shape"
   ]
  },
  {
   "cell_type": "code",
   "execution_count": 12,
   "metadata": {},
   "outputs": [],
   "source": [
    "import graphfit"
   ]
  },
  {
   "cell_type": "code",
   "execution_count": 13,
   "metadata": {},
   "outputs": [
    {
     "data": {
      "text/plain": [
       "['__builtins__',\n",
       " '__cached__',\n",
       " '__doc__',\n",
       " '__file__',\n",
       " '__loader__',\n",
       " '__name__',\n",
       " '__package__',\n",
       " '__path__',\n",
       " '__spec__',\n",
       " 'glasso',\n",
       " 'l2_reg',\n",
       " 'log_barrier',\n",
       " 'utils']"
      ]
     },
     "execution_count": 13,
     "metadata": {},
     "output_type": "execute_result"
    }
   ],
   "source": [
    "dir(graphfit)"
   ]
  },
  {
   "cell_type": "code",
   "execution_count": 14,
   "metadata": {},
   "outputs": [
    {
     "data": {
      "text/plain": [
       "<function graphfit.l2_reg.l2_reg(X, dist_type='sqeuclidean', alpha=1, s=None, step=0.5, w0=None, maxit=1000, rtol=1e-05, retall=False, verbosity='NONE')>"
      ]
     },
     "execution_count": 14,
     "metadata": {},
     "output_type": "execute_result"
    }
   ],
   "source": [
    "graphfit.l2_reg"
   ]
  },
  {
   "cell_type": "code",
   "execution_count": 25,
   "metadata": {},
   "outputs": [],
   "source": [
    "W, problem = graphfit.l2_reg(data.T, retall=True)"
   ]
  },
  {
   "cell_type": "code",
   "execution_count": 26,
   "metadata": {},
   "outputs": [
    {
     "data": {
      "text/plain": [
       "{'sol': array([3.25297996e-06, 3.25297996e-06, 3.25297996e-06, ...,\n",
       "        3.25297996e-06, 3.25297996e-06, 3.25297996e-06]),\n",
       " 'solver': 'mlfbf',\n",
       " 'crit': 'RTOL',\n",
       " 'niter': 10,\n",
       " 'time': 149.72154712677002,\n",
       " 'objective': [[0.0, 0.0, 0.0],\n",
       "  [1118128.6193146044, 0.0, 32.337398742356655],\n",
       "  [1397673.2840495226, 0.0, 50.52809003651616],\n",
       "  [1467562.5778501255, 0.0, 55.707646655599994],\n",
       "  [1485035.6832398432, 0.0, 57.04207731151308],\n",
       "  [1489404.1550807604, 0.0, 57.37816784823525],\n",
       "  [1490496.3219162314, 0.0, 57.4623485029052],\n",
       "  [1490769.375844208, 0.0, 57.48340425049294],\n",
       "  [1490837.6423817787, 0.0, 57.4886690257146],\n",
       "  [1490854.7097799839, 0.0, 57.48998531607047],\n",
       "  [1490858.976820425, 0.0, 57.49031440572713]],\n",
       " 'dual_sol': array([-1.46441015])}"
      ]
     },
     "execution_count": 26,
     "metadata": {},
     "output_type": "execute_result"
    }
   ],
   "source": [
    "problem"
   ]
  },
  {
   "cell_type": "code",
   "execution_count": 27,
   "metadata": {},
   "outputs": [
    {
     "data": {
      "text/plain": [
       "<matplotlib.image.AxesImage at 0x7fa9002ba9b0>"
      ]
     },
     "execution_count": 27,
     "metadata": {},
     "output_type": "execute_result"
    },
    {
     "data": {
      "image/png": "[encoded data removed]",
      "text/plain": [
       "<Figure size 432x288 with 1 Axes>"
      ]
     },
     "metadata": {
      "needs_background": "light"
     },
     "output_type": "display_data"
    }
   ],
   "source": [
    "plt.imshow(W)"
   ]
  },
  {
   "cell_type": "code",
   "execution_count": 28,
   "metadata": {},
   "outputs": [
    {
     "data": {
      "text/plain": [
       "array([[0.00000000e+00, 3.25297996e-06, 3.25297996e-06, ...,\n",
       "        3.25297996e-06, 3.25297996e-06, 3.25297996e-06],\n",
       "       [3.25297996e-06, 0.00000000e+00, 3.25297996e-06, ...,\n",
       "        3.25297996e-06, 3.25297996e-06, 3.25297996e-06],\n",
       "       [3.25297996e-06, 3.25297996e-06, 0.00000000e+00, ...,\n",
       "        3.25297996e-06, 3.25297996e-06, 3.25297996e-06],\n",
       "       ...,\n",
       "       [3.25297996e-06, 3.25297996e-06, 3.25297996e-06, ...,\n",
       "        0.00000000e+00, 3.25297996e-06, 3.25297996e-06],\n",
       "       [3.25297996e-06, 3.25297996e-06, 3.25297996e-06, ...,\n",
       "        3.25297996e-06, 0.00000000e+00, 3.25297996e-06],\n",
       "       [3.25297996e-06, 3.25297996e-06, 3.25297996e-06, ...,\n",
       "        3.25297996e-06, 3.25297996e-06, 0.00000000e+00]])"
      ]
     },
     "execution_count": 28,
     "metadata": {},
     "output_type": "execute_result"
    }
   ],
   "source": [
    "W"
   ]
  },
  {
   "cell_type": "code",
   "execution_count": 31,
   "metadata": {},
   "outputs": [
    {
     "data": {
      "text/plain": [
       "3.252979961850154e-06"
      ]
     },
     "execution_count": 31,
     "metadata": {},
     "output_type": "execute_result"
    }
   ],
   "source": [
    "import numpy as np\n",
    "np.max(W)"
   ]
  },
  {
   "cell_type": "code",
   "execution_count": 32,
   "metadata": {},
   "outputs": [
    {
     "data": {
      "text/plain": [
       "0.0"
      ]
     },
     "execution_count": 32,
     "metadata": {},
     "output_type": "execute_result"
    }
   ],
   "source": [
    "np.min(W)"
   ]
  },
  {
   "cell_type": "code",
   "execution_count": null,
   "metadata": {},
   "outputs": [],
   "source": []
  }
 ],
 "metadata": {
  "kernelspec": {
   "display_name": "Python 3",
   "language": "python",
   "name": "python3"
  },
  "language_info": {
   "codemirror_mode": {
    "name": "ipython",
    "version": 3
   },
   "file_extension": ".py",
   "mimetype": "text/x-python",
   "name": "python",
   "nbconvert_exporter": "python",
   "pygments_lexer": "ipython3",
   "version": "3.7.1"
  }
 },
 "nbformat": 4,
 "nbformat_minor": 2
}
